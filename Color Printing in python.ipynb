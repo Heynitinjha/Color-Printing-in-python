{
 "cells": [
  {
   "cell_type": "code",
   "execution_count": 1,
   "id": "f8056bfb",
   "metadata": {},
   "outputs": [],
   "source": [
    "from colorama import Fore"
   ]
  },
  {
   "cell_type": "code",
   "execution_count": 6,
   "id": "2aaa3662",
   "metadata": {},
   "outputs": [
    {
     "name": "stdout",
     "output_type": "stream",
     "text": [
      "\u001b[31mHello\n",
      "\u001b[30mHello\n",
      "\u001b[32mHello\n",
      "\u001b[33mHello\n",
      "\u001b[36mHello\n"
     ]
    }
   ],
   "source": [
    "print(Fore.RED+\"Hello\")\n",
    "print(Fore.BLACK+\"Hello\")\n",
    "print(Fore.GREEN+\"Hello\")\n",
    "print(Fore.YELLOW+\"Hello\")\n",
    "print(Fore.CYAN+\"Hello\")"
   ]
  },
  {
   "cell_type": "code",
   "execution_count": null,
   "id": "7e6a49f3",
   "metadata": {},
   "outputs": [],
   "source": []
  }
 ],
 "metadata": {
  "kernelspec": {
   "display_name": "Python 3 (ipykernel)",
   "language": "python",
   "name": "python3"
  },
  "language_info": {
   "codemirror_mode": {
    "name": "ipython",
    "version": 3
   },
   "file_extension": ".py",
   "mimetype": "text/x-python",
   "name": "python",
   "nbconvert_exporter": "python",
   "pygments_lexer": "ipython3",
   "version": "3.10.9"
  }
 },
 "nbformat": 4,
 "nbformat_minor": 5
}
